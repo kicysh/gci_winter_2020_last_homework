{
  "nbformat": 4,
  "nbformat_minor": 0,
  "metadata": {
    "colab": {
      "name": "final_homework_models.ipynb",
      "provenance": [],
      "collapsed_sections": [],
      "authorship_tag": "ABX9TyNnfHSJSd58UxuJNI1dJ1Y6",
      "include_colab_link": true
    },
    "kernelspec": {
      "display_name": "Python 3",
      "name": "python3"
    }
  },
  "cells": [
    {
      "cell_type": "markdown",
      "metadata": {
        "id": "view-in-github",
        "colab_type": "text"
      },
      "source": [
        "<a href=\"https://colab.research.google.com/github/kicysh/gci_winter_2020_last_homework/blob/main/final_homework.ipynb\" target=\"_parent\"><img src=\"https://colab.research.google.com/assets/colab-badge.svg\" alt=\"Open In Colab\"/></a>"
      ]
    },
    {
      "cell_type": "code",
      "metadata": {
        "id": "HflOGoyrgH8S",
        "colab": {
          "base_uri": "https://localhost:8080/"
        },
        "outputId": "7fc8c809-62fc-4916-cefb-5045f2e23c1f"
      },
      "source": [
        "import pandas as pd\r\n",
        "import numpy as np\r\n",
        "\r\n",
        "# Google Drive・Google Colaboratoryで作業する場合\r\n",
        "# Google Driveからcolaboratoryにファイルをダウンロード\r\n",
        "# ダウンロードしたファイルはランタイムが終了すると削除されます\r\n",
        "from google_drive_downloader import GoogleDriveDownloader as GDD\r\n",
        "d = {'./data.csv':'1s8Dtp1V_DRpeuD4OBsUd6KoVWTc8dDb9'}\r\n",
        "for k, v in d.items():\r\n",
        "    GDD.download_file_from_google_drive(file_id=v,\r\n",
        "                                        dest_path=k,\r\n",
        "                                        unzip=False)\r\n",
        "\r\n",
        "df = pd.read_csv('data.csv', sep=',')"
      ],
      "execution_count": 1,
      "outputs": [
        {
          "output_type": "stream",
          "text": [
            "Downloading 1s8Dtp1V_DRpeuD4OBsUd6KoVWTc8dDb9 into ./data.csv... Done.\n"
          ],
          "name": "stdout"
        }
      ]
    },
    {
      "cell_type": "code",
      "metadata": {
        "colab": {
          "base_uri": "https://localhost:8080/",
          "height": 248
        },
        "id": "g93xo2pKTAb8",
        "outputId": "7027ac4c-d588-4949-a7e4-277930eee9a9"
      },
      "source": [
        "# fig1\r\n",
        "import matplotlib.pyplot as plt\r\n",
        "x = []\r\n",
        "x.append(len(df[df.ovrmou_Mean==0]))\r\n",
        "x.append(len(df[(0<df.ovrmou_Mean)&(df.ovrmou_Mean<=100)]))\r\n",
        "x.append(len(df[(100<df.ovrmou_Mean)&(df.ovrmou_Mean<=200)]))\r\n",
        "x.append(len(df[(200<df.ovrmou_Mean)]))\r\n",
        "\r\n",
        "plt.pie(x,labels=['0','0~100','100~200','200~'],counterclock=False, \r\n",
        "        startangle=90, autopct=\"%.1f%%\",pctdistance=0.7)\r\n",
        "plt.savefig('fig1.png')"
      ],
      "execution_count": 2,
      "outputs": [
        {
          "output_type": "display_data",
          "data": {
            "image/png": "[encoded data removed]",
            "text/plain": [
              "<Figure size 432x288 with 1 Axes>"
            ]
          },
          "metadata": {
            "tags": []
          }
        }
      ]
    },
    {
      "cell_type": "code",
      "metadata": {
        "colab": {
          "base_uri": "https://localhost:8080/",
          "height": 248
        },
        "id": "AgLDXEGvlniA",
        "outputId": "9cc390dc-27f4-4335-c79a-229f3dc4d87b"
      },
      "source": [
        "# fig2\r\n",
        "import matplotlib.pyplot as plt\r\n",
        "x = []\r\n",
        "x.append(len(df[df.custcare_Mean==0]))\r\n",
        "x.append(len(df[(0<df.custcare_Mean)&(df.custcare_Mean<=2)]))\r\n",
        "x.append(len(df[(2<df.custcare_Mean)&(df.custcare_Mean<=5)]))\r\n",
        "x.append(len(df[(5<df.custcare_Mean)&(df.custcare_Mean<=10)]))\r\n",
        "x.append(len(df[(10<df.custcare_Mean)]))\r\n",
        "\r\n",
        "plt.pie(x,labels=['0','0~2','2~5','5~10','10~'],counterclock=False, \r\n",
        "        startangle=90, autopct=\"%.1f%%\",pctdistance=0.7)\r\n",
        "plt.savefig('fig2.png')"
      ],
      "execution_count": 3,
      "outputs": [
        {
          "output_type": "display_data",
          "data": {
            "image/png": "[encoded data removed]",
            "text/plain": [
              "<Figure size 432x288 with 1 Axes>"
            ]
          },
          "metadata": {
            "tags": []
          }
        }
      ]
    },
    {
      "cell_type": "code",
      "metadata": {
        "id": "WI1u-U4xO1xs"
      },
      "source": [
        "target = 'mou_Mean'\r\n",
        "target_2 = 'ovrmou_Mean'\r\n",
        "df_tmp = df.loc[:,[target,target_2]]\r\n",
        "\r\n",
        "df = df.drop(['rev_Mean','totmrc_Mean','ovrmou_Mean','ovrrev_Mean','vceovr_Mean',\r\n",
        "              'datovr_Mean','change_mou','change_rev',],axis=1)"
      ],
      "execution_count": 4,
      "outputs": []
    },
    {
      "cell_type": "code",
      "metadata": {
        "id": "JTm1s9TlnIG3"
      },
      "source": [
        "a = df.isnull().sum()\r\n",
        "index = set(df.loc[:,a[a<=2839].index].dropna().index)"
      ],
      "execution_count": 5,
      "outputs": []
    },
    {
      "cell_type": "code",
      "metadata": {
        "colab": {
          "base_uri": "https://localhost:8080/"
        },
        "id": "ugbv-qQihlO2",
        "outputId": "1c1999e5-bfa6-4314-db8d-8f1177aa48b6"
      },
      "source": [
        "tmp_col_2 = list()\r\n",
        "tmp_col_3 = list()\r\n",
        "tmp_col_4 = list()\r\n",
        "for col in df.columns:\r\n",
        "    if df.loc[index,col].isnull().sum()>0:\r\n",
        "        continue\r\n",
        "    num = len(df[col].value_counts())\r\n",
        "    if num == 2:\r\n",
        "        tmp_col_2.append(col)\r\n",
        "    elif num == 3:\r\n",
        "        tmp_col_3.append(col)\r\n",
        "    elif num == 4:\r\n",
        "        tmp_col_4.append(col)\r\n",
        "print(len(tmp_col_2))\r\n",
        "print(len(tmp_col_3))\r\n",
        "print(len(tmp_col_4))"
      ],
      "execution_count": 6,
      "outputs": [
        {
          "output_type": "stream",
          "text": [
            "12\n",
            "1\n",
            "1\n"
          ],
          "name": "stdout"
        }
      ]
    },
    {
      "cell_type": "code",
      "metadata": {
        "colab": {
          "base_uri": "https://localhost:8080/"
        },
        "id": "s-k7li8Jl9OL",
        "outputId": "60484a64-e162-49e4-c601-ff4a8701b5ba"
      },
      "source": [
        "df_dropna = df.loc[index,:].dropna(axis=1)\r\n",
        "df_dropna['dwllsize'] = df.loc[index,'dwllsize'].fillna('dwllsize_NaN')\r\n",
        "df_dropna['hnd_webcap'] = df.loc[index,'hnd_webcap'].fillna('hnd_webcap_NaN')\r\n",
        "df_dropna['ownrent'] = df.loc[index,'ownrent'].fillna('ownrent_NaN')\r\n",
        "df_dropna['dwlltype'] = df.loc[index,'dwlltype'].fillna('dwlltype_NaN')\r\n",
        "df_dropna['infobase'] = df.loc[index,'infobase'].fillna('infobase_NaN')\r\n",
        "df_dropna['HHstatin'] = df.loc[index,'HHstatin'].fillna('HHstatin_NaN')\r\n",
        "df_dropna['prizm_social_one'] = df.loc[index,'prizm_social_one'].fillna('prizm_social_one_NaN')\r\n",
        "print(df_dropna.shape)\r\n",
        "\r\n",
        "df_dropna['crclscod'] = df_dropna['crclscod'].apply(lambda x :x[0])\r\n",
        "tmp = df_dropna.crclscod.value_counts()\r\n",
        "tmp_index = df_dropna[df_dropna.crclscod.isin(tmp[tmp<=100].index)].index\r\n",
        "df_dropna.loc[tmp_index,'crclscod'] = 'others' \r\n",
        "\r\n",
        "tmp = df_dropna.ethnic.value_counts()\r\n",
        "tmp_index = df_dropna[df_dropna.ethnic.isin(tmp[tmp<=500].index)].index\r\n",
        "df_dropna.loc[tmp_index,'ethnic'] = 'others' \r\n",
        "\r\n",
        "df_dropna['drop_sum_Mean'] =  df_dropna.drop_dat_Mean + df_dropna.drop_vce_Mean \r\n",
        "df_dropna['block_sum_Mean'] =  df_dropna.blck_dat_Mean + df_dropna.blck_vce_Mean \r\n",
        "df_dropna['block_and_drop_sum_mean'] = df_dropna.drop_sum_Mean + df_dropna.block_sum_Mean\r\n",
        "\r\n",
        "df_dropna['off_peak_data'] = df_dropna.mou_opkd_Mean * df_dropna.opk_dat_Mean\r\n",
        "df_dropna['off_peak_voice'] = df_dropna.mou_opkv_Mean * df_dropna.opk_vce_Mean\r\n",
        "df_dropna['off_peak_use'] = df_dropna.off_peak_data + df_dropna.off_peak_voice\r\n",
        "\r\n",
        "df_dropna['peak_data'] = df_dropna.mou_pead_Mean * df_dropna.peak_dat_Mean\r\n",
        "df_dropna['peak_voice'] = df_dropna.mou_peav_Mean * df_dropna.peak_vce_Mean\r\n",
        "df_dropna['peak_use'] = df_dropna.peak_data + df_dropna.off_peak_voice\r\n",
        "\r\n",
        "df_dropna['complete_per_attempt'] = df_dropna.complete_Mean/df_dropna.attempt_Mean\r\n",
        "\r\n",
        "df_dropna['eqpyears'] = df_dropna.eqpdays//365\r\n",
        "df_dropna['eqpmonths'] = df_dropna.eqpdays//30\r\n",
        "\r\n",
        "# kids\r\n",
        "df_dropna.kid0_2 = df_dropna.kid0_2.map({'U':0,'Y':1})\r\n",
        "df_dropna.kid3_5 = df_dropna.kid3_5.map({'U':0,'Y':1})\r\n",
        "df_dropna.kid6_10 = df_dropna.kid6_10.map({'U':0,'Y':1})\r\n",
        "df_dropna.kid11_15 = df_dropna.kid11_15.map({'U':0,'Y':1})\r\n",
        "df_dropna.kid16_17 = df_dropna.kid16_17.map({'U':0,'Y':1})\r\n",
        "df_dropna['kids'] = df_dropna.kid0_2 + df_dropna.kid3_5 + df_dropna.kid6_10 +\\\r\n",
        "                    df_dropna.kid11_15 + df_dropna.kid16_17\r\n",
        "df_dropna['adults'] = df.loc[index,'adults'].values\r\n",
        "for i in range(max(df_dropna.kids)+1):\r\n",
        "    tmp_index = set(df_dropna[df_dropna.adults.isnull()].index) &  \\\r\n",
        "                set(df_dropna[df_dropna.kids==i].index)\r\n",
        "    df_dropna.loc[tmp_index,'adults'] = df_dropna[df_dropna.kids==i].adults.median()\r\n",
        "#df_dropna.adults = df_dropna.adults.fillna(1)\r\n",
        "df_dropna['family'] = df_dropna.kids + df_dropna.adults\r\n",
        "\r\n",
        "dummy_col = ['new_cell','crclscod','asl_flag','dualband',\r\n",
        "             'refurb_new','marital','ethnic',\r\n",
        "             'kid0_2','kid3_5','kid6_10','kid11_15','kid16_17',\r\n",
        "             'creditcd','area',\r\n",
        "             'Customer_ID','churn',\r\n",
        "             'dwllsize','hnd_webcap','ownrent','dwlltype','infobase','HHstatin','prizm_social_one']\r\n",
        "ctg_cols = df_dropna.drop(set(dummy_col),axis=1).columns\r\n",
        "ctg_cols = set(ctg_cols) - set([target])\r\n",
        "for col in ctg_cols:\r\n",
        "    df_dropna['{}_ctg'.format(col)] =  pd.qcut(df_dropna[col],10,duplicates='drop')\r\n",
        "for col in ctg_cols:\r\n",
        "    df_dropna['{}_ctg_5'.format(col)] =  pd.qcut(df_dropna[col],5,duplicates='drop')\r\n",
        "for col in ctg_cols:\r\n",
        "    df_dropna['{}__value_ctg'.format(col)] =  pd.cut(df_dropna[col],10,duplicates='drop')\r\n",
        "\r\n",
        "print(df_dropna.shape)"
      ],
      "execution_count": 7,
      "outputs": [
        {
          "output_type": "stream",
          "text": [
            "(94391, 88)\n",
            "(94391, 340)\n"
          ],
          "name": "stdout"
        }
      ]
    },
    {
      "cell_type": "code",
      "metadata": {
        "colab": {
          "base_uri": "https://localhost:8080/"
        },
        "id": "EKuDvxkkmSoU",
        "outputId": "5f6dbbdd-92c1-43df-ea47-067773cf221f"
      },
      "source": [
        "import lightgbm.sklearn as lgbm\r\n",
        "from sklearn.model_selection import train_test_split\r\n",
        "\r\n",
        "dummy_col = ['new_cell','crclscod','asl_flag','dualband',\r\n",
        "             'refurb_new','marital','ethnic',\r\n",
        "             #'kid0_2','kid3_5','kid6_10','kid11_15','kid16_17',\r\n",
        "             'creditcd','area',#'churn',\r\n",
        "             'dwllsize','hnd_webcap','ownrent','dwlltype','infobase','HHstatin','prizm_social_one']\r\n",
        "\r\n",
        "dummy_col = set(dummy_col) | set(['{}_ctg'.format(col) for col in ctg_cols])\r\n",
        "dummy_col = set(dummy_col) | set(['{}_ctg_5'.format(col) for col in ctg_cols])\r\n",
        "dummy_col = set(dummy_col) | set(['{}__value_ctg'.format(col) for col in ctg_cols])\r\n",
        "dummy_col = set(dummy_col) - set([target])\r\n",
        "X = pd.get_dummies(df_dropna.drop([target,'Customer_ID'],axis=1),columns=dummy_col).astype(np.float64)\r\n",
        "#target_2 = 'ovrmou_Mean'\r\n",
        "y = df_tmp.loc[index,:].astype(np.float64)\r\n",
        "\r\n",
        "X_train, X_test, y_train, y_test = train_test_split(X,y,random_state=42)\r\n",
        "X.shape"
      ],
      "execution_count": 8,
      "outputs": [
        {
          "output_type": "execute_result",
          "data": {
            "text/plain": [
              "(94391, 1793)"
            ]
          },
          "metadata": {
            "tags": []
          },
          "execution_count": 8
        }
      ]
    },
    {
      "cell_type": "code",
      "metadata": {
        "colab": {
          "base_uri": "https://localhost:8080/"
        },
        "id": "kiL6vogQ2pyE",
        "outputId": "aa447f58-2225-49f5-e16b-87b3c8cc3c46"
      },
      "source": [
        "X_train, X_test, y_train, y_test = train_test_split(X,y,random_state=9)\r\n",
        "lg = lgbm.LGBMRegressor(metric='mae',random_state=9,n_estimators=10000)\r\n",
        "fit_params = {'eval_set':[(X_test, y_test.iloc[:,0])], \r\n",
        "              'early_stopping_rounds':250,\r\n",
        "              'verbose':500}\r\n",
        "lg.fit(X_train,y_train.iloc[:,0],**fit_params)\r\n",
        "y_pred = lg.predict(X_test)"
      ],
      "execution_count": 12,
      "outputs": [
        {
          "output_type": "stream",
          "text": [
            "Training until validation scores don't improve for 250 rounds.\n",
            "[500]\tvalid_0's l1: 45.5287\n",
            "Early stopping, best iteration is:\n",
            "[284]\tvalid_0's l1: 45.4249\n"
          ],
          "name": "stdout"
        }
      ]
    },
    {
      "cell_type": "code",
      "metadata": {
        "colab": {
          "base_uri": "https://localhost:8080/",
          "height": 265
        },
        "id": "VvXYExzwJzUb",
        "outputId": "e195d023-a390-4d75-a8d1-b0c084e46c44"
      },
      "source": [
        "# fig3\r\n",
        "tag = target_2\r\n",
        "x = []\r\n",
        "x.append(len(y_test[y_test[tag]==0]))\r\n",
        "x.append(len(y_test[(0<y_test[tag])&(y_test[tag]<=100)]))\r\n",
        "x.append(len(y_test[(100<y_test[tag])&(y_test[tag]<=200)]))\r\n",
        "x.append(len(y_test[(200<y_test[tag])]))\r\n",
        "\r\n",
        "plt.pie(x,labels=['0','0~100','100~200','200~'],counterclock=False, \r\n",
        "        startangle=90, autopct=\"%.1f%%\",pctdistance=0.7)\r\n",
        "plt.savefig('fig3.png')\r\n",
        "print(tag)"
      ],
      "execution_count": 13,
      "outputs": [
        {
          "output_type": "stream",
          "text": [
            "ovrmou_Mean\n"
          ],
          "name": "stdout"
        },
        {
          "output_type": "display_data",
          "data": {
            "image/png": "[encoded data removed]",
            "text/plain": [
              "<Figure size 432x288 with 1 Axes>"
            ]
          },
          "metadata": {
            "tags": []
          }
        }
      ]
    },
    {
      "cell_type": "code",
      "metadata": {
        "id": "_pGqoRZ92ohX",
        "colab": {
          "base_uri": "https://localhost:8080/",
          "height": 387
        },
        "outputId": "65fe9ee9-cba6-4f4e-b771-382e4e983dac"
      },
      "source": [
        "# fig4\r\n",
        "tag = target\r\n",
        "y_test['pred'] = y_test[tag]-y_pred-20\r\n",
        "tag = 'pred'\r\n",
        "x = []\r\n",
        "x.append(len(y_test[y_test[tag]<0]))\r\n",
        "x.append(len(y_test[(0<y_test[tag])&(y_test[tag]<=100)]))\r\n",
        "x.append(len(y_test[(100<y_test[tag])&(y_test[tag]<=200)]))\r\n",
        "x.append(len(y_test[(200<y_test[tag])]))\r\n",
        "\r\n",
        "plt.pie(x,labels=['0','0~100','100~200','200~'],counterclock=False, \r\n",
        "        startangle=90, autopct=\"%.1f%%\",pctdistance=0.7)\r\n",
        "plt.savefig('fig4.png')\r\n",
        "print(tag)"
      ],
      "execution_count": 14,
      "outputs": [
        {
          "output_type": "stream",
          "text": [
            "pred\n"
          ],
          "name": "stdout"
        },
        {
          "output_type": "stream",
          "text": [
            "/usr/local/lib/python3.6/dist-packages/ipykernel_launcher.py:3: SettingWithCopyWarning: \n",
            "A value is trying to be set on a copy of a slice from a DataFrame.\n",
            "Try using .loc[row_indexer,col_indexer] = value instead\n",
            "\n",
            "See the caveats in the documentation: https://pandas.pydata.org/pandas-docs/stable/user_guide/indexing.html#returning-a-view-versus-a-copy\n",
            "  This is separate from the ipykernel package so we can avoid doing imports until\n"
          ],
          "name": "stderr"
        },
        {
          "output_type": "display_data",
          "data": {
            "image/png": "[encoded data removed]",
            "text/plain": [
              "<Figure size 432x288 with 1 Axes>"
            ]
          },
          "metadata": {
            "tags": []
          }
        }
      ]
    },
    {
      "cell_type": "code",
      "metadata": {
        "id": "P0rrPqGGR4gw"
      },
      "source": [
        ""
      ],
      "execution_count": null,
      "outputs": []
    }
  ]
}